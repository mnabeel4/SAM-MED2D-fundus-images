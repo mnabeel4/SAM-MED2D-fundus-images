{
 "cells": [
  {
   "cell_type": "code",
   "execution_count": null,
   "id": "b326ea03",
   "metadata": {},
   "outputs": [],
   "source": [
    "from pydrive.auth import GoogleAuth\n",
    "from pydrive.drive import GoogleDrive\n",
    "from google.colab import auth\n",
    "from oauth2client.client import GoogleCredentials\n",
    "import os\n",
    "\n",
    "ROOT_DIR = '.'\n",
    "CODE_DIR = f\"{ROOT_DIR}/SAM_Med2D\"\n",
    "MODEL_DIR = f\"{CODE_DIR}/pretrain_model\"\n",
    "os.makedirs(f'{MODEL_DIR}')\n",
    "\n",
    "download_with_pydrive = True\n",
    "\n",
    "class Downloader(object):\n",
    "  def __init__(self, use_pydrive, save_dir='.'):\n",
    "    self.use_pydrive = use_pydrive\n",
    "    current_directory = os.getcwd()\n",
    "    self.save_dir = save_dir\n",
    "    if self.use_pydrive:\n",
    "      self.authenticate()\n",
    "\n",
    "  def authenticate(self):\n",
    "    auth.authenticate_user()\n",
    "    gauth = GoogleAuth()\n",
    "    gauth.credentials = GoogleCredentials.get_application_default()\n",
    "    self.drive = GoogleDrive(gauth)\n",
    "\n",
    "  def download_file(self, file_id, file_name):\n",
    "    file_dst = f'{self.save_dir}/{file_name}'\n",
    "    if os.path.exists(file_dst):\n",
    "      print(f'{file_name} already exists')\n",
    "      return\n",
    "    downloaded = self.drive.CreateFile({'id': file_id})\n",
    "    downloaded.FetchMetadata(fetch_all=True)\n",
    "    downloaded.GetContentFile(file_dst)\n",
    "\n",
    "downloader = Downloader(download_with_pydrive, MODEL_DIR)\n",
    "\n",
    "sam_med2d_model = {'id': '1ARiB5RkSsWmAB_8mqWnwDF8ZKTtFwsjl', 'name': 'sam-med2d_b.pth'}\n",
    "# samed_model = {'id': '1P0Bm-05l-rfeghbrT1B62v5eN-3A-uOr', 'name': 'epoch_159.pth'}\n",
    "# medsam_model = {'id': '1UAmWL88roYR7wKlnApw5Bcuzf2iQgk6_', 'name': 'medsam_vit_b.pth'}\n",
    "downloader.download_file(file_id=sam_med2d_model['id'], file_name=sam_med2d_model['name'])\n",
    "# !wget https://dl.fbaipublicfiles.com/segment_anything/sam_vit_h_4b8939.pth -P $MODEL_DIR\n",
    "# downloader.download_file(file_id=medsam_model['id'], file_name=medsam_model['name'])\n",
    "# downloader.download_file(file_id=samed_model['id'], file_name=samed_model['name'])"
   ]
  },
  {
   "cell_type": "code",
   "execution_count": null,
   "id": "a187dd7b",
   "metadata": {},
   "outputs": [],
   "source": []
  }
 ],
 "metadata": {
  "kernelspec": {
   "display_name": "Python 3 (ipykernel)",
   "language": "python",
   "name": "python3"
  }
 },
 "nbformat": 4,
 "nbformat_minor": 5
}
